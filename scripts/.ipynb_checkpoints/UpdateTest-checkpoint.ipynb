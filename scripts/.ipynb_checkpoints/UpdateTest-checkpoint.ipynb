{
 "cells": [
  {
   "cell_type": "code",
   "execution_count": 11,
   "id": "7f7a3cd9-b03f-4da8-bf21-dfb2604da8c1",
   "metadata": {},
   "outputs": [],
   "source": [
    "import pandas as pd\n",
    "import sqlite3\n",
    "import os\n",
    "pd.set_option('display.max_columns', 50)\n",
    "pd.set_option('display.width', 1000)"
   ]
  },
  {
   "cell_type": "code",
   "execution_count": 13,
   "id": "fe8a08ef-f7e7-4763-b343-42a3ed715d99",
   "metadata": {},
   "outputs": [
    {
     "name": "stdout",
     "output_type": "stream",
     "text": [
      "      observer_id                      login         name                                    photo_url_large              taxon_name                                           ancestry  taxon_id     rank   photo_id                            photo_uuid extension\n",
      "0             516                        msr          NaN  http://inaturalist-open-data.s3.amazonaws.com/...  Phascolarctos cinereus  48460/1/2/355675/40151/848317/848319/42711/429...     42983  species      20812  f3571de5-f228-43ac-b413-af302409626a       jpg\n",
      "1             516                        msr          NaN  http://inaturalist-open-data.s3.amazonaws.com/...  Phascolarctos cinereus  48460/1/2/355675/40151/848317/848319/42711/429...     42983  species      20813  0711ef35-3bde-4016-9013-deed314713a4       jpg\n",
      "2            2991               sea-kangaroo          NaN  http://inaturalist-open-data.s3.amazonaws.com/...  Phascolarctos cinereus  48460/1/2/355675/40151/848317/848319/42711/429...     42983  species     137876  0c9cef74-263d-41e4-8070-e78904ffcff5       JPG\n",
      "3            2991               sea-kangaroo          NaN  http://inaturalist-open-data.s3.amazonaws.com/...  Phascolarctos cinereus  48460/1/2/355675/40151/848317/848319/42711/429...     42983  species     137879  0ca2872b-f5c3-4fe4-89d4-bf6195cbd0c9       JPG\n",
      "4           15795                     scotty  Scott Mills  http://inaturalist-open-data.s3.amazonaws.com/...  Phascolarctos cinereus  48460/1/2/355675/40151/848317/848319/42711/429...     42983  species     489583  164d10fd-5d31-46a0-858a-0996db8d803d       jpg\n",
      "...           ...                        ...          ...                                                ...                     ...                                                ...       ...      ...        ...                                   ...       ...\n",
      "6073      1809954                 gregtasney  Greg Tasney  http://inaturalist-open-data.s3.amazonaws.com/...  Phascolarctos cinereus  48460/1/2/355675/40151/848317/848319/42711/429...     42983  species  148710231  3da50e1d-3a0b-4d4e-bb1c-946fbbf20734      jpeg\n",
      "6074      1809954                 gregtasney  Greg Tasney  http://inaturalist-open-data.s3.amazonaws.com/...  Phascolarctos cinereus  48460/1/2/355675/40151/848317/848319/42711/429...     42983  species  148710247  cfb1dbd9-5e4c-463b-9873-6c54e751cdbf      jpeg\n",
      "6075      3459654                      phiro      Philipp  http://inaturalist-open-data.s3.amazonaws.com/...  Phascolarctos cinereus  48460/1/2/355675/40151/848317/848319/42711/429...     42983  species  148820672  4c7471ac-ac2c-41a7-b024-24195f7bd832       jpg\n",
      "6076      4829373                  abbiejane          NaN  http://inaturalist-open-data.s3.amazonaws.com/...  Phascolarctos cinereus  48460/1/2/355675/40151/848317/848319/42711/429...     42983  species  148873572  d9d32d13-5634-4c55-b77e-aae758974e8e      jpeg\n",
      "6077      2458110  urliup-wildlife-sanctuary        Sandy  http://inaturalist-open-data.s3.amazonaws.com/...  Phascolarctos cinereus  48460/1/2/355675/40151/848317/848319/42711/429...     42983  species  149094569  97f4ef54-1db4-447c-ae9d-d4081ddc8423      jpeg\n",
      "\n",
      "[6078 rows x 11 columns]\n"
     ]
    }
   ],
   "source": [
    "old_csv = pd.read_csv('../csvs/Phascolarctos.csv')\n",
    "print(old_csv)"
   ]
  },
  {
   "cell_type": "code",
   "execution_count": 14,
   "id": "0cf0a992-bab5-4e9d-9af7-331503413435",
   "metadata": {},
   "outputs": [
    {
     "name": "stdout",
     "output_type": "stream",
     "text": [
      "      observer_id                      login          name                                    photo_url_large              taxon_name                                           ancestry  taxon_id     rank   photo_id                            photo_uuid extension\n",
      "0             516                        msr           NaN  http://inaturalist-open-data.s3.amazonaws.com/...  Phascolarctos cinereus  48460/1/2/355675/40151/848317/848319/42711/429...     42983  species      20812  f3571de5-f228-43ac-b413-af302409626a       jpg\n",
      "1             516                        msr           NaN  http://inaturalist-open-data.s3.amazonaws.com/...  Phascolarctos cinereus  48460/1/2/355675/40151/848317/848319/42711/429...     42983  species      20813  0711ef35-3bde-4016-9013-deed314713a4       jpg\n",
      "2            2991               sea-kangaroo           NaN  http://inaturalist-open-data.s3.amazonaws.com/...  Phascolarctos cinereus  48460/1/2/355675/40151/848317/848319/42711/429...     42983  species     137876  0c9cef74-263d-41e4-8070-e78904ffcff5       JPG\n",
      "3            2991               sea-kangaroo           NaN  http://inaturalist-open-data.s3.amazonaws.com/...  Phascolarctos cinereus  48460/1/2/355675/40151/848317/848319/42711/429...     42983  species     137879  0ca2872b-f5c3-4fe4-89d4-bf6195cbd0c9       JPG\n",
      "4           15795                     scotty   Scott Mills  http://inaturalist-open-data.s3.amazonaws.com/...  Phascolarctos cinereus  48460/1/2/355675/40151/848317/848319/42711/429...     42983  species     489583  164d10fd-5d31-46a0-858a-0996db8d803d       jpg\n",
      "...           ...                        ...           ...                                                ...                     ...                                                ...       ...      ...        ...                                   ...       ...\n",
      "9665       108966                 nyoni-pete  Pete Woodall  http://inaturalist-open-data.s3.amazonaws.com/...  Phascolarctos cinereus  48460/1/2/355675/40151/848317/848319/42711/429...     42983  species  209503279  f194ceb2-481b-4169-8072-aaff957f104b      jpeg\n",
      "9666       108966                 nyoni-pete  Pete Woodall  http://inaturalist-open-data.s3.amazonaws.com/...  Phascolarctos cinereus  48460/1/2/355675/40151/848317/848319/42711/429...     42983  species  209503546  87ebd22b-84a6-4cab-b9c8-02f7ac5d3dfe      jpeg\n",
      "9667       108966                 nyoni-pete  Pete Woodall  http://inaturalist-open-data.s3.amazonaws.com/...  Phascolarctos cinereus  48460/1/2/355675/40151/848317/848319/42711/429...     42983  species  209505156  ca7649a9-1315-4c29-9ba9-c60e156398f0      jpeg\n",
      "9668       108966                 nyoni-pete  Pete Woodall  http://inaturalist-open-data.s3.amazonaws.com/...  Phascolarctos cinereus  48460/1/2/355675/40151/848317/848319/42711/429...     42983  species  209505144  ae012bb5-c69a-420e-a503-81f05b13b2b5      jpeg\n",
      "9669      2458110  urliup-wildlife-sanctuary         Sandy  http://inaturalist-open-data.s3.amazonaws.com/...  Phascolarctos cinereus  48460/1/2/355675/40151/848317/848319/42711/429...     42983  species  209510038  dc3e8979-ad29-43e2-b6fa-e9234bb68bed      jpeg\n",
      "\n",
      "[9670 rows x 11 columns]\n"
     ]
    }
   ],
   "source": [
    "new_csv = pd.read_csv('../csvs/Phascolarctos_update.csv')\n",
    "print(new_csv)"
   ]
  },
  {
   "cell_type": "code",
   "execution_count": 15,
   "id": "868e04ca-13b3-46b2-ae52-1f220bbe737b",
   "metadata": {},
   "outputs": [
    {
     "ename": "ValueError",
     "evalue": "Can only compare identically-labeled DataFrame objects",
     "output_type": "error",
     "traceback": [
      "\u001b[0;31m---------------------------------------------------------------------------\u001b[0m",
      "\u001b[0;31mValueError\u001b[0m                                Traceback (most recent call last)",
      "Cell \u001b[0;32mIn [15], line 1\u001b[0m\n\u001b[0;32m----> 1\u001b[0m \u001b[43mold_csv\u001b[49m\u001b[38;5;241;43m.\u001b[39;49m\u001b[43mcompare\u001b[49m\u001b[43m(\u001b[49m\u001b[43mnew_csv\u001b[49m\u001b[43m)\u001b[49m\n",
      "File \u001b[0;32m/opt/anaconda3/envs/iNatOpenDownload/lib/python3.10/site-packages/pandas/core/frame.py:7199\u001b[0m, in \u001b[0;36mDataFrame.compare\u001b[0;34m(self, other, align_axis, keep_shape, keep_equal)\u001b[0m\n\u001b[1;32m   7086\u001b[0m \u001b[38;5;129m@doc\u001b[39m(\n\u001b[1;32m   7087\u001b[0m     _shared_docs[\u001b[38;5;124m\"\u001b[39m\u001b[38;5;124mcompare\u001b[39m\u001b[38;5;124m\"\u001b[39m],\n\u001b[1;32m   7088\u001b[0m     \u001b[38;5;124;03m\"\"\"\u001b[39;00m\n\u001b[0;32m   (...)\u001b[0m\n\u001b[1;32m   7197\u001b[0m     keep_equal: \u001b[38;5;28mbool\u001b[39m \u001b[38;5;241m=\u001b[39m \u001b[38;5;28;01mFalse\u001b[39;00m,\n\u001b[1;32m   7198\u001b[0m ) \u001b[38;5;241m-\u001b[39m\u001b[38;5;241m>\u001b[39m DataFrame:\n\u001b[0;32m-> 7199\u001b[0m     \u001b[38;5;28;01mreturn\u001b[39;00m \u001b[38;5;28;43msuper\u001b[39;49m\u001b[43m(\u001b[49m\u001b[43m)\u001b[49m\u001b[38;5;241;43m.\u001b[39;49m\u001b[43mcompare\u001b[49m\u001b[43m(\u001b[49m\n\u001b[1;32m   7200\u001b[0m \u001b[43m        \u001b[49m\u001b[43mother\u001b[49m\u001b[38;5;241;43m=\u001b[39;49m\u001b[43mother\u001b[49m\u001b[43m,\u001b[49m\n\u001b[1;32m   7201\u001b[0m \u001b[43m        \u001b[49m\u001b[43malign_axis\u001b[49m\u001b[38;5;241;43m=\u001b[39;49m\u001b[43malign_axis\u001b[49m\u001b[43m,\u001b[49m\n\u001b[1;32m   7202\u001b[0m \u001b[43m        \u001b[49m\u001b[43mkeep_shape\u001b[49m\u001b[38;5;241;43m=\u001b[39;49m\u001b[43mkeep_shape\u001b[49m\u001b[43m,\u001b[49m\n\u001b[1;32m   7203\u001b[0m \u001b[43m        \u001b[49m\u001b[43mkeep_equal\u001b[49m\u001b[38;5;241;43m=\u001b[39;49m\u001b[43mkeep_equal\u001b[49m\u001b[43m,\u001b[49m\n\u001b[1;32m   7204\u001b[0m \u001b[43m    \u001b[49m\u001b[43m)\u001b[49m\n",
      "File \u001b[0;32m/opt/anaconda3/envs/iNatOpenDownload/lib/python3.10/site-packages/pandas/core/generic.py:8642\u001b[0m, in \u001b[0;36mNDFrame.compare\u001b[0;34m(self, other, align_axis, keep_shape, keep_equal)\u001b[0m\n\u001b[1;32m   8637\u001b[0m     cls_self, cls_other \u001b[38;5;241m=\u001b[39m \u001b[38;5;28mtype\u001b[39m(\u001b[38;5;28mself\u001b[39m)\u001b[38;5;241m.\u001b[39m\u001b[38;5;18m__name__\u001b[39m, \u001b[38;5;28mtype\u001b[39m(other)\u001b[38;5;241m.\u001b[39m\u001b[38;5;18m__name__\u001b[39m\n\u001b[1;32m   8638\u001b[0m     \u001b[38;5;28;01mraise\u001b[39;00m \u001b[38;5;167;01mTypeError\u001b[39;00m(\n\u001b[1;32m   8639\u001b[0m         \u001b[38;5;124mf\u001b[39m\u001b[38;5;124m\"\u001b[39m\u001b[38;5;124mcan only compare \u001b[39m\u001b[38;5;124m'\u001b[39m\u001b[38;5;132;01m{\u001b[39;00mcls_self\u001b[38;5;132;01m}\u001b[39;00m\u001b[38;5;124m'\u001b[39m\u001b[38;5;124m (not \u001b[39m\u001b[38;5;124m'\u001b[39m\u001b[38;5;132;01m{\u001b[39;00mcls_other\u001b[38;5;132;01m}\u001b[39;00m\u001b[38;5;124m'\u001b[39m\u001b[38;5;124m) with \u001b[39m\u001b[38;5;124m'\u001b[39m\u001b[38;5;132;01m{\u001b[39;00mcls_self\u001b[38;5;132;01m}\u001b[39;00m\u001b[38;5;124m'\u001b[39m\u001b[38;5;124m\"\u001b[39m\n\u001b[1;32m   8640\u001b[0m     )\n\u001b[0;32m-> 8642\u001b[0m mask \u001b[38;5;241m=\u001b[39m \u001b[38;5;241m~\u001b[39m((\u001b[38;5;28;43mself\u001b[39;49m\u001b[43m \u001b[49m\u001b[38;5;241;43m==\u001b[39;49m\u001b[43m \u001b[49m\u001b[43mother\u001b[49m) \u001b[38;5;241m|\u001b[39m (\u001b[38;5;28mself\u001b[39m\u001b[38;5;241m.\u001b[39misna() \u001b[38;5;241m&\u001b[39m other\u001b[38;5;241m.\u001b[39misna()))\n\u001b[1;32m   8643\u001b[0m keys \u001b[38;5;241m=\u001b[39m [\u001b[38;5;124m\"\u001b[39m\u001b[38;5;124mself\u001b[39m\u001b[38;5;124m\"\u001b[39m, \u001b[38;5;124m\"\u001b[39m\u001b[38;5;124mother\u001b[39m\u001b[38;5;124m\"\u001b[39m]\n\u001b[1;32m   8645\u001b[0m \u001b[38;5;28;01mif\u001b[39;00m \u001b[38;5;129;01mnot\u001b[39;00m keep_equal:\n",
      "File \u001b[0;32m/opt/anaconda3/envs/iNatOpenDownload/lib/python3.10/site-packages/pandas/core/ops/common.py:70\u001b[0m, in \u001b[0;36m_unpack_zerodim_and_defer.<locals>.new_method\u001b[0;34m(self, other)\u001b[0m\n\u001b[1;32m     66\u001b[0m             \u001b[38;5;28;01mreturn\u001b[39;00m \u001b[38;5;28mNotImplemented\u001b[39m\n\u001b[1;32m     68\u001b[0m other \u001b[38;5;241m=\u001b[39m item_from_zerodim(other)\n\u001b[0;32m---> 70\u001b[0m \u001b[38;5;28;01mreturn\u001b[39;00m \u001b[43mmethod\u001b[49m\u001b[43m(\u001b[49m\u001b[38;5;28;43mself\u001b[39;49m\u001b[43m,\u001b[49m\u001b[43m \u001b[49m\u001b[43mother\u001b[49m\u001b[43m)\u001b[49m\n",
      "File \u001b[0;32m/opt/anaconda3/envs/iNatOpenDownload/lib/python3.10/site-packages/pandas/core/arraylike.py:40\u001b[0m, in \u001b[0;36mOpsMixin.__eq__\u001b[0;34m(self, other)\u001b[0m\n\u001b[1;32m     38\u001b[0m \u001b[38;5;129m@unpack_zerodim_and_defer\u001b[39m(\u001b[38;5;124m\"\u001b[39m\u001b[38;5;124m__eq__\u001b[39m\u001b[38;5;124m\"\u001b[39m)\n\u001b[1;32m     39\u001b[0m \u001b[38;5;28;01mdef\u001b[39;00m \u001b[38;5;21m__eq__\u001b[39m(\u001b[38;5;28mself\u001b[39m, other):\n\u001b[0;32m---> 40\u001b[0m     \u001b[38;5;28;01mreturn\u001b[39;00m \u001b[38;5;28;43mself\u001b[39;49m\u001b[38;5;241;43m.\u001b[39;49m\u001b[43m_cmp_method\u001b[49m\u001b[43m(\u001b[49m\u001b[43mother\u001b[49m\u001b[43m,\u001b[49m\u001b[43m \u001b[49m\u001b[43moperator\u001b[49m\u001b[38;5;241;43m.\u001b[39;49m\u001b[43meq\u001b[49m\u001b[43m)\u001b[49m\n",
      "File \u001b[0;32m/opt/anaconda3/envs/iNatOpenDownload/lib/python3.10/site-packages/pandas/core/frame.py:6937\u001b[0m, in \u001b[0;36mDataFrame._cmp_method\u001b[0;34m(self, other, op)\u001b[0m\n\u001b[1;32m   6934\u001b[0m \u001b[38;5;28;01mdef\u001b[39;00m \u001b[38;5;21m_cmp_method\u001b[39m(\u001b[38;5;28mself\u001b[39m, other, op):\n\u001b[1;32m   6935\u001b[0m     axis \u001b[38;5;241m=\u001b[39m \u001b[38;5;241m1\u001b[39m  \u001b[38;5;66;03m# only relevant for Series other case\u001b[39;00m\n\u001b[0;32m-> 6937\u001b[0m     \u001b[38;5;28mself\u001b[39m, other \u001b[38;5;241m=\u001b[39m \u001b[43mops\u001b[49m\u001b[38;5;241;43m.\u001b[39;49m\u001b[43malign_method_FRAME\u001b[49m\u001b[43m(\u001b[49m\u001b[38;5;28;43mself\u001b[39;49m\u001b[43m,\u001b[49m\u001b[43m \u001b[49m\u001b[43mother\u001b[49m\u001b[43m,\u001b[49m\u001b[43m \u001b[49m\u001b[43maxis\u001b[49m\u001b[43m,\u001b[49m\u001b[43m \u001b[49m\u001b[43mflex\u001b[49m\u001b[38;5;241;43m=\u001b[39;49m\u001b[38;5;28;43;01mFalse\u001b[39;49;00m\u001b[43m,\u001b[49m\u001b[43m \u001b[49m\u001b[43mlevel\u001b[49m\u001b[38;5;241;43m=\u001b[39;49m\u001b[38;5;28;43;01mNone\u001b[39;49;00m\u001b[43m)\u001b[49m\n\u001b[1;32m   6939\u001b[0m     \u001b[38;5;66;03m# See GH#4537 for discussion of scalar op behavior\u001b[39;00m\n\u001b[1;32m   6940\u001b[0m     new_data \u001b[38;5;241m=\u001b[39m \u001b[38;5;28mself\u001b[39m\u001b[38;5;241m.\u001b[39m_dispatch_frame_op(other, op, axis\u001b[38;5;241m=\u001b[39maxis)\n",
      "File \u001b[0;32m/opt/anaconda3/envs/iNatOpenDownload/lib/python3.10/site-packages/pandas/core/ops/__init__.py:289\u001b[0m, in \u001b[0;36malign_method_FRAME\u001b[0;34m(left, right, axis, flex, level)\u001b[0m\n\u001b[1;32m    287\u001b[0m             left, right \u001b[38;5;241m=\u001b[39m left\u001b[38;5;241m.\u001b[39malign(right, join\u001b[38;5;241m=\u001b[39m\u001b[38;5;124m\"\u001b[39m\u001b[38;5;124mouter\u001b[39m\u001b[38;5;124m\"\u001b[39m, level\u001b[38;5;241m=\u001b[39mlevel, copy\u001b[38;5;241m=\u001b[39m\u001b[38;5;28;01mFalse\u001b[39;00m)\n\u001b[1;32m    288\u001b[0m         \u001b[38;5;28;01melse\u001b[39;00m:\n\u001b[0;32m--> 289\u001b[0m             \u001b[38;5;28;01mraise\u001b[39;00m \u001b[38;5;167;01mValueError\u001b[39;00m(\n\u001b[1;32m    290\u001b[0m                 \u001b[38;5;124m\"\u001b[39m\u001b[38;5;124mCan only compare identically-labeled DataFrame objects\u001b[39m\u001b[38;5;124m\"\u001b[39m\n\u001b[1;32m    291\u001b[0m             )\n\u001b[1;32m    292\u001b[0m \u001b[38;5;28;01melif\u001b[39;00m \u001b[38;5;28misinstance\u001b[39m(right, ABCSeries):\n\u001b[1;32m    293\u001b[0m     \u001b[38;5;66;03m# axis=1 is default for DataFrame-with-Series op\u001b[39;00m\n\u001b[1;32m    294\u001b[0m     axis \u001b[38;5;241m=\u001b[39m left\u001b[38;5;241m.\u001b[39m_get_axis_number(axis) \u001b[38;5;28;01mif\u001b[39;00m axis \u001b[38;5;129;01mis\u001b[39;00m \u001b[38;5;129;01mnot\u001b[39;00m \u001b[38;5;28;01mNone\u001b[39;00m \u001b[38;5;28;01melse\u001b[39;00m \u001b[38;5;241m1\u001b[39m\n",
      "\u001b[0;31mValueError\u001b[0m: Can only compare identically-labeled DataFrame objects"
     ]
    }
   ],
   "source": [
    "old_csv.compare(new_csv aligh_axis='index')"
   ]
  }
 ],
 "metadata": {
  "kernelspec": {
   "display_name": "Python 3 (ipykernel)",
   "language": "python",
   "name": "python3"
  },
  "language_info": {
   "codemirror_mode": {
    "name": "ipython",
    "version": 3
   },
   "file_extension": ".py",
   "mimetype": "text/x-python",
   "name": "python",
   "nbconvert_exporter": "python",
   "pygments_lexer": "ipython3",
   "version": "3.10.4"
  }
 },
 "nbformat": 4,
 "nbformat_minor": 5
}
