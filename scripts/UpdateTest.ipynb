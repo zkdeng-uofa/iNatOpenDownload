{
 "cells": [
  {
   "cell_type": "code",
   "execution_count": null,
   "id": "7f7a3cd9-b03f-4da8-bf21-dfb2604da8c1",
   "metadata": {},
   "outputs": [],
   "source": [
    "import pandas as pd\n",
    "import sqlite3\n",
    "import os\n",
    "pd.set_option('display.max_columns', 50)\n",
    "pd.set_option('display.width', 1000)"
   ]
  },
  {
   "cell_type": "code",
   "execution_count": 11,
   "id": "fe8a08ef-f7e7-4763-b343-42a3ed715d99",
   "metadata": {},
   "outputs": [
    {
     "name": "stdout",
     "output_type": "stream",
     "text": [
      "      observer_id                      login         name                                    photo_url_large              taxon_name                                           ancestry  taxon_id     rank   photo_id                            photo_uuid extension\n",
      "0             516                        msr          NaN  http://inaturalist-open-data.s3.amazonaws.com/...  Phascolarctos cinereus  48460/1/2/355675/40151/848317/848319/42711/429...     42983  species      20812  f3571de5-f228-43ac-b413-af302409626a       jpg\n",
      "1             516                        msr          NaN  http://inaturalist-open-data.s3.amazonaws.com/...  Phascolarctos cinereus  48460/1/2/355675/40151/848317/848319/42711/429...     42983  species      20813  0711ef35-3bde-4016-9013-deed314713a4       jpg\n",
      "2            2991               sea-kangaroo          NaN  http://inaturalist-open-data.s3.amazonaws.com/...  Phascolarctos cinereus  48460/1/2/355675/40151/848317/848319/42711/429...     42983  species     137876  0c9cef74-263d-41e4-8070-e78904ffcff5       JPG\n",
      "3            2991               sea-kangaroo          NaN  http://inaturalist-open-data.s3.amazonaws.com/...  Phascolarctos cinereus  48460/1/2/355675/40151/848317/848319/42711/429...     42983  species     137879  0ca2872b-f5c3-4fe4-89d4-bf6195cbd0c9       JPG\n",
      "4           15795                     scotty  Scott Mills  http://inaturalist-open-data.s3.amazonaws.com/...  Phascolarctos cinereus  48460/1/2/355675/40151/848317/848319/42711/429...     42983  species     489583  164d10fd-5d31-46a0-858a-0996db8d803d       jpg\n",
      "...           ...                        ...          ...                                                ...                     ...                                                ...       ...      ...        ...                                   ...       ...\n",
      "6073      1809954                 gregtasney  Greg Tasney  http://inaturalist-open-data.s3.amazonaws.com/...  Phascolarctos cinereus  48460/1/2/355675/40151/848317/848319/42711/429...     42983  species  148710231  3da50e1d-3a0b-4d4e-bb1c-946fbbf20734      jpeg\n",
      "6074      1809954                 gregtasney  Greg Tasney  http://inaturalist-open-data.s3.amazonaws.com/...  Phascolarctos cinereus  48460/1/2/355675/40151/848317/848319/42711/429...     42983  species  148710247  cfb1dbd9-5e4c-463b-9873-6c54e751cdbf      jpeg\n",
      "6075      3459654                      phiro      Philipp  http://inaturalist-open-data.s3.amazonaws.com/...  Phascolarctos cinereus  48460/1/2/355675/40151/848317/848319/42711/429...     42983  species  148820672  4c7471ac-ac2c-41a7-b024-24195f7bd832       jpg\n",
      "6076      4829373                  abbiejane          NaN  http://inaturalist-open-data.s3.amazonaws.com/...  Phascolarctos cinereus  48460/1/2/355675/40151/848317/848319/42711/429...     42983  species  148873572  d9d32d13-5634-4c55-b77e-aae758974e8e      jpeg\n",
      "6077      2458110  urliup-wildlife-sanctuary        Sandy  http://inaturalist-open-data.s3.amazonaws.com/...  Phascolarctos cinereus  48460/1/2/355675/40151/848317/848319/42711/429...     42983  species  149094569  97f4ef54-1db4-447c-ae9d-d4081ddc8423      jpeg\n",
      "\n",
      "[6078 rows x 11 columns]\n"
     ]
    }
   ],
   "source": [
    "df1 = pd.read_csv('../csvs/Phascolarctos.csv')\n",
    "print(df1)"
   ]
  },
  {
   "cell_type": "code",
   "execution_count": 12,
   "id": "0cf0a992-bab5-4e9d-9af7-331503413435",
   "metadata": {},
   "outputs": [
    {
     "name": "stdout",
     "output_type": "stream",
     "text": [
      "      observer_id                      login          name                                    photo_url_large              taxon_name                                           ancestry  taxon_id     rank   photo_id                            photo_uuid extension\n",
      "0             516                        msr           NaN  http://inaturalist-open-data.s3.amazonaws.com/...  Phascolarctos cinereus  48460/1/2/355675/40151/848317/848319/42711/429...     42983  species      20812  f3571de5-f228-43ac-b413-af302409626a       jpg\n",
      "1             516                        msr           NaN  http://inaturalist-open-data.s3.amazonaws.com/...  Phascolarctos cinereus  48460/1/2/355675/40151/848317/848319/42711/429...     42983  species      20813  0711ef35-3bde-4016-9013-deed314713a4       jpg\n",
      "2            2991               sea-kangaroo           NaN  http://inaturalist-open-data.s3.amazonaws.com/...  Phascolarctos cinereus  48460/1/2/355675/40151/848317/848319/42711/429...     42983  species     137876  0c9cef74-263d-41e4-8070-e78904ffcff5       JPG\n",
      "3            2991               sea-kangaroo           NaN  http://inaturalist-open-data.s3.amazonaws.com/...  Phascolarctos cinereus  48460/1/2/355675/40151/848317/848319/42711/429...     42983  species     137879  0ca2872b-f5c3-4fe4-89d4-bf6195cbd0c9       JPG\n",
      "4           15795                     scotty   Scott Mills  http://inaturalist-open-data.s3.amazonaws.com/...  Phascolarctos cinereus  48460/1/2/355675/40151/848317/848319/42711/429...     42983  species     489583  164d10fd-5d31-46a0-858a-0996db8d803d       jpg\n",
      "...           ...                        ...           ...                                                ...                     ...                                                ...       ...      ...        ...                                   ...       ...\n",
      "9665       108966                 nyoni-pete  Pete Woodall  http://inaturalist-open-data.s3.amazonaws.com/...  Phascolarctos cinereus  48460/1/2/355675/40151/848317/848319/42711/429...     42983  species  209503279  f194ceb2-481b-4169-8072-aaff957f104b      jpeg\n",
      "9666       108966                 nyoni-pete  Pete Woodall  http://inaturalist-open-data.s3.amazonaws.com/...  Phascolarctos cinereus  48460/1/2/355675/40151/848317/848319/42711/429...     42983  species  209503546  87ebd22b-84a6-4cab-b9c8-02f7ac5d3dfe      jpeg\n",
      "9667       108966                 nyoni-pete  Pete Woodall  http://inaturalist-open-data.s3.amazonaws.com/...  Phascolarctos cinereus  48460/1/2/355675/40151/848317/848319/42711/429...     42983  species  209505156  ca7649a9-1315-4c29-9ba9-c60e156398f0      jpeg\n",
      "9668       108966                 nyoni-pete  Pete Woodall  http://inaturalist-open-data.s3.amazonaws.com/...  Phascolarctos cinereus  48460/1/2/355675/40151/848317/848319/42711/429...     42983  species  209505144  ae012bb5-c69a-420e-a503-81f05b13b2b5      jpeg\n",
      "9669      2458110  urliup-wildlife-sanctuary         Sandy  http://inaturalist-open-data.s3.amazonaws.com/...  Phascolarctos cinereus  48460/1/2/355675/40151/848317/848319/42711/429...     42983  species  209510038  dc3e8979-ad29-43e2-b6fa-e9234bb68bed      jpeg\n",
      "\n",
      "[9670 rows x 11 columns]\n"
     ]
    }
   ],
   "source": [
    "df2 = pd.read_csv('../csvs/Phascolarctos_update.csv')\n",
    "print(df2)"
   ]
  },
  {
   "cell_type": "code",
   "execution_count": null,
   "id": "868e04ca-13b3-46b2-ae52-1f220bbe737b",
   "metadata": {},
   "outputs": [],
   "source": [
    "#old_csv.compare(new_csv, align_axis='columns')\n",
    "# idx = new.index.intersection(old_csv.index)\n",
    "# print(idx)\n",
    "# print(new_csv.ix[idx])"
   ]
  },
  {
   "cell_type": "code",
   "execution_count": null,
   "id": "e382d946-eb7f-4b62-af19-d27c5386487d",
   "metadata": {},
   "outputs": [],
   "source": [
    "df_all = df2.merge(df1.drop_duplicates(), on=['photo_id'], \n",
    "                   how='left', indicator=True)\n",
    "#print(df_all)\n",
    "df_all['_merge'] == 'left_only'\n",
    "print(df_all['_merge'])"
   ]
  },
  {
   "cell_type": "code",
   "execution_count": null,
   "id": "3aad5466-a7dc-4c5f-82f1-e4d42622a7a6",
   "metadata": {},
   "outputs": [],
   "source": [
    "df_all[df_all['_merge'] == 'left_only']"
   ]
  },
  {
   "cell_type": "markdown",
   "id": "b4c527a2-77b8-4d85-aeea-37dacd9d6110",
   "metadata": {},
   "source": [
    "# Input is two csvs\n",
    "# url_df to sql db\n",
    "# make species csvs folders from db\n",
    "# all species image download of \n",
    "# option to have seperate tar file\n",
    "# option to extract both tars, merge by putting the images in the correct place, then retar\n",
    "    maybe no need to untar? just add?"
   ]
  },
  {
   "cell_type": "code",
   "execution_count": null,
   "id": "423cb72c-e2ea-4e7d-9249-6dd7046cecb2",
   "metadata": {},
   "outputs": [],
   "source": []
  }
 ],
 "metadata": {
  "kernelspec": {
   "display_name": "Python 3 (ipykernel)",
   "language": "python",
   "name": "python3"
  },
  "language_info": {
   "codemirror_mode": {
    "name": "ipython",
    "version": 3
   },
   "file_extension": ".py",
   "mimetype": "text/x-python",
   "name": "python",
   "nbconvert_exporter": "python",
   "pygments_lexer": "ipython3",
   "version": "3.10.4"
  }
 },
 "nbformat": 4,
 "nbformat_minor": 5
}
