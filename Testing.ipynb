{
 "cells": [
  {
   "cell_type": "code",
   "execution_count": 1,
   "id": "db61f700-6750-495c-b3fb-f77614db1e87",
   "metadata": {},
   "outputs": [],
   "source": [
    "import pandas as pd\n",
    "import sqlite3\n",
    "import os\n",
    "pd.set_option('display.width', 500)"
   ]
  },
  {
   "cell_type": "code",
   "execution_count": null,
   "id": "96b909e9-1f9b-48bf-9f74-2942db79b216",
   "metadata": {},
   "outputs": [],
   "source": [
    "# url_df = pd.read_sql_query(\n",
    "#     \"WITH urls AS (SELECT 'http://inaturalist-open-data.s3.amazonaws.com/photos/' AS photo_url) \"\n",
    "#     \"SELECT B.*, U.photo_url || A.photo_id || '/' || 'large.' || A.extension AS photo_url_large, D.name AS taxon_name, D.ancestry, D.taxon_id, A.photo_id, A.photo_uuid, A.extension \"\n",
    "#     \"FROM urls U \"\n",
    "#     \"CROSS JOIN photos A \"\n",
    "#     \"JOIN observers B \"\n",
    "#     \"ON A.observer_id = B.observer_id \"\n",
    "#     \"JOIN observations C \"\n",
    "#     \"ON A.observation_uuid = C.observation_uuid \"\n",
    "#     \"LEFT JOIN taxa D \"\n",
    "#     \"ON C.taxon_id = D.taxon_id \"\n",
    "#     \"WHERE D.ancestry LIKE '\"+args.ancestry_string+\"' \"\n",
    "#     \"AND D.rank = 'species' \"\n",
    "#     \"AND C.quality_grade = 'research' \",\n",
    "#     #con = 'sqlite:///../db/inaturalist-open-data-20220127.sq3db'\n",
    "#     con = \"sqlite:///../db/\"+args.input_db\n",
    "# )"
   ]
  },
  {
   "cell_type": "code",
   "execution_count": null,
   "id": "e7b71f1c-fd7a-4f60-8f88-9cfe73a74697",
   "metadata": {},
   "outputs": [],
   "source": [
    "test_df2 = pd.read_sql_query(\n",
    "    \"\"\"\n",
    "    SELECT * \n",
    "    FROM photos A\n",
    "    JOIN observations B\n",
    "    ON A.observation_uuid = B.observation_uuid\n",
    "    JOIN taxa C\n",
    "    ON B.taxon_id = C.taxon_id\n",
    "    \"\"\",\n",
    "    con = 'sqlite:///../db/inaturalist-open-data-20220127.sq3db'\n",
    ")\n",
    "\n",
    "print(test_df2)"
   ]
  },
  {
   "cell_type": "code",
   "execution_count": 23,
   "id": "2a90004e-ad98-4026-a609-f5374fa40c5b",
   "metadata": {},
   "outputs": [
    {
     "name": "stdout",
     "output_type": "stream",
     "text": [
      "          taxon_id                                           ancestry  rank_level     rank                   name active quality_grade   photo_id\n",
      "0            84549  48460/1/47120/372739/47158/184884/47792/47927/...        10.0  species        Plathemis lydia   true      research      36164\n",
      "1            84549  48460/1/47120/372739/47158/184884/47792/47927/...        10.0  species        Plathemis lydia   true      research      36165\n",
      "2            84549  48460/1/47120/372739/47158/184884/47792/47927/...        10.0  species        Plathemis lydia   true      research      36166\n",
      "3            81881  48460/1/47120/372739/47158/184884/47744/125816...        10.0  species  Amphipsalta zelandica   true      research      36488\n",
      "4            52619  48460/1/47120/372739/47158/184884/47208/340471...        10.0  species  Cicindela hirticollis   true      research      36574\n",
      "...            ...                                                ...         ...      ...                    ...    ...           ...        ...\n",
      "13271067    566452  48460/1/47120/372739/47158/184884/47157/49682/...        10.0  species  Nacoleia amphicedalis   true      research  177326668\n",
      "13271068    202814  48460/1/47120/372739/47158/184884/47157/47607/...        10.0  species      Targalla delatrix   true      research  177327047\n",
      "13271069    323553  48460/1/47120/372739/47158/184884/47792/47927/...        10.0  species         Anax papuensis   true      research  177327408\n",
      "13271070    518098  48460/1/47120/372739/47158/184884/47157/47224/...        10.0  species      Graphium choredon   true      research  177327877\n",
      "13271071    518098  48460/1/47120/372739/47158/184884/47157/47224/...        10.0  species      Graphium choredon   true      research  177327876\n",
      "\n",
      "[13271072 rows x 8 columns]\n"
     ]
    }
   ],
   "source": [
    "test_df = pd.read_sql_query(\n",
    "    \"\"\"\n",
    "    SELECT *  \n",
    "    FROM observations B \n",
    "    JOIN taxa A \n",
    "    ON B.taxon_id = A.taxon_id\n",
    "    JOIN photos C\n",
    "    ON B.observation_uuid = C.observation_uuid\n",
    "    JOIN observers B \n",
    "    ON A.observer_id = B.observer_id \n",
    "\n",
    "    WHERE A.ancestry LIKE '48460/1/47120/372739/47158/%' \n",
    "    AND A.rank = 'species' \n",
    "    AND B.quality_grade = 'research' \n",
    "    \"\"\",\n",
    "    con = 'sqlite:///../db/inaturalist-open-data-20220127.sq3db'\n",
    ")\n",
    "\n",
    "print(test_df)"
   ]
  },
  {
   "cell_type": "code",
   "execution_count": 32,
   "id": "dec0b59e-3c1d-4ef9-bae8-e01b251363b3",
   "metadata": {},
   "outputs": [
    {
     "name": "stdout",
     "output_type": "stream",
     "text": [
      "98337\n"
     ]
    }
   ],
   "source": [
    "print(len(test_df.name.unique()))\n",
    "#print(len(test_df.query('active == \"true\"')))"
   ]
  },
  {
   "cell_type": "code",
   "execution_count": 22,
   "id": "5f9c5d75-5a8b-47a0-84d6-9b938edf1ac6",
   "metadata": {},
   "outputs": [
    {
     "name": "stdout",
     "output_type": "stream",
     "text": [
      "        taxon_id                                           ancestry  rank_level     rank                   name active\n",
      "0          56807  48460/1/47120/372739/47158/184884/47201/124417...        10.0  species       Crabro peltarius   true\n",
      "1          52879  48460/1/47120/372739/47158/184884/47208/71130/...        10.0  species        Halyzia hauseri   true\n",
      "2          52095  48460/1/47120/372739/47158/184884/47157/47607/...        10.0  species        Gonitis privata   true\n",
      "3          59960  48460/1/47120/372739/47158/184884/47744/334037...        10.0  species     Pulvinaria regalis   true\n",
      "4          59475  48460/1/47120/372739/47158/184884/47208/71130/...        10.0  species    Diplotaxis academia   true\n",
      "...          ...                                                ...         ...      ...                    ...    ...\n",
      "385266   1349602  48460/1/47120/372739/47158/184884/47208/71130/...        10.0  species  Sphaerometopa diversa   true\n",
      "385267   1349603  48460/1/47120/372739/47158/184884/47157/49531/...        10.0  species     Idaea rubridentata   true\n",
      "385268   1349604  48460/1/47120/372739/47158/184884/47201/124417...        10.0  species    Camponotus augustei   true\n",
      "385269   1349605  48460/1/47120/372739/47158/184884/47157/47156/...        10.0  species  Omiostola longimacula   true\n",
      "385270   1349608  48460/1/47120/372739/47158/184884/47822/154259...        10.0  species  Hesperinus brevifrons   true\n",
      "\n",
      "[385271 rows x 6 columns]\n"
     ]
    }
   ],
   "source": [
    "test_df = pd.read_sql_query(\n",
    "    \"\"\"\n",
    "    SELECT * \n",
    "    FROM taxa A\n",
    "    WHERE A.ancestry LIKE '48460/1/47120/372739/47158/%' \n",
    "    AND A.rank = 'species' \n",
    "    AND A.active = 'true' \n",
    "    \"\"\",\n",
    "    con = 'sqlite:///../db/inaturalist-open-data-20220127.sq3db'\n",
    ")\n",
    "\n",
    "print(test_df)"
   ]
  },
  {
   "cell_type": "code",
   "execution_count": 38,
   "id": "dccd5ae0-c99f-4421-87f7-675d71a09a6b",
   "metadata": {},
   "outputs": [
    {
     "name": "stdout",
     "output_type": "stream",
     "text": [
      "       license\n",
      "0        CC-BY\n",
      "1     CC-BY-NC\n",
      "2  CC-BY-NC-ND\n",
      "3  CC-BY-NC-SA\n",
      "4     CC-BY-ND\n",
      "5     CC-BY-SA\n",
      "6          CC0\n",
      "7           PD\n",
      "8      license\n"
     ]
    }
   ],
   "source": [
    "test_df = pd.read_sql_query(\n",
    "    \"\"\"\n",
    "    SELECT DISTINCT license\n",
    "    FROM photos\n",
    "    LIMIT 100\n",
    "    \"\"\",\n",
    "    con = 'sqlite:///../db/inaturalist-open-data-20220127.sq3db'\n",
    ")\n",
    "\n",
    "print(test_df)"
   ]
  },
  {
   "cell_type": "code",
   "execution_count": 2,
   "id": "fc1670a9-ecab-4146-9df1-9c4dbd5cbd4b",
   "metadata": {},
   "outputs": [],
   "source": [
    "url_df = pd.read_csv(\"../csvs/insectURL.csv\")"
   ]
  },
  {
   "cell_type": "code",
   "execution_count": 3,
   "id": "30edca16-766c-4616-814b-bfadf3fd5944",
   "metadata": {},
   "outputs": [
    {
     "name": "stdout",
     "output_type": "stream",
     "text": [
      "          observer_id     login            name                                    photo_url_large              taxon_name                                           ancestry  taxon_id   photo_id                            photo_uuid extension\n",
      "0                1000      muir       Matt Muir  http://inaturalist-open-data.s3.amazonaws.com/...         Plathemis lydia  48460/1/47120/372739/47158/184884/47792/47927/...     84549      36164  f5375570-86a9-4b5a-adf2-8afe95b1b962       jpg\n",
      "1                1000      muir       Matt Muir  http://inaturalist-open-data.s3.amazonaws.com/...         Plathemis lydia  48460/1/47120/372739/47158/184884/47792/47927/...     84549      36165  56d1aa2e-6a46-421d-96b9-b37b5290b285       jpg\n",
      "2                1000      muir       Matt Muir  http://inaturalist-open-data.s3.amazonaws.com/...         Plathemis lydia  48460/1/47120/372739/47158/184884/47792/47927/...     84549      36166  882f9ed3-c019-4263-a9f7-860ea80aba2a       jpg\n",
      "3                1506  pierre_t  Pierre Tellier  http://inaturalist-open-data.s3.amazonaws.com/...   Amphipsalta zelandica  48460/1/47120/372739/47158/184884/47744/125816...     81881      36488  75f44feb-2e57-4b17-aac6-ea0b733985a5       JPG\n",
      "4                   1     kueda   Ken-ichi Ueda  http://inaturalist-open-data.s3.amazonaws.com/...   Cicindela hirticollis  48460/1/47120/372739/47158/184884/47208/340471...     52619      36574  80f686e8-c66a-4bfe-8b4e-26d58d2ee5e2       jpg\n",
      "...               ...       ...             ...                                                ...                     ...                                                ...       ...        ...                                   ...       ...\n",
      "11516306        70843   njemery    Nathan Emery  http://inaturalist-open-data.s3.amazonaws.com/...  Burbunga queenslandica  48460/1/47120/372739/47158/184884/47744/125816...    208185  177327030  20d8e728-32f2-4e25-abbb-3fdf55b32716      jpeg\n",
      "11516307      1548915    larney             NaN  http://inaturalist-open-data.s3.amazonaws.com/...   Nacoleia amphicedalis  48460/1/47120/372739/47158/184884/47157/49682/...    566452  177326668  ef4b0973-00f4-42d3-8133-36df55899f0f      jpeg\n",
      "11516308      1548915    larney             NaN  http://inaturalist-open-data.s3.amazonaws.com/...       Targalla delatrix  48460/1/47120/372739/47158/184884/47157/47607/...    202814  177327047  b9a2f111-4c0e-4d13-950f-6c9f54d835ac      jpeg\n",
      "11516309      3643589  cressgil             NaN  http://inaturalist-open-data.s3.amazonaws.com/...       Graphium choredon  48460/1/47120/372739/47158/184884/47157/47224/...    518098  177327877  9df92560-86d9-4236-bda0-c299ff6449ec       jpg\n",
      "11516310      3643589  cressgil             NaN  http://inaturalist-open-data.s3.amazonaws.com/...       Graphium choredon  48460/1/47120/372739/47158/184884/47157/47224/...    518098  177327876  fe7eec4f-32b4-4fdf-a3fb-a0a69b1d6162       jpg\n",
      "\n",
      "[11516311 rows x 10 columns]\n"
     ]
    }
   ],
   "source": [
    "print(url_df)"
   ]
  },
  {
   "cell_type": "code",
   "execution_count": 7,
   "id": "61ea039c-326b-4d97-857d-85169b7c9abc",
   "metadata": {},
   "outputs": [
    {
     "name": "stdout",
     "output_type": "stream",
     "text": [
      "95399\n"
     ]
    }
   ],
   "source": [
    "test = url_df.taxon_id.unique()\n",
    "print(len(test))"
   ]
  },
  {
   "cell_type": "code",
   "execution_count": 6,
   "id": "7c7140a2-0d9c-45a4-ad0f-7c1d85f35381",
   "metadata": {},
   "outputs": [
    {
     "name": "stdout",
     "output_type": "stream",
     "text": [
      "                           observer_id                  login                            name                                    photo_url_large                                           ancestry  taxon_id   photo_id                            photo_uuid extension\n",
      "taxon_name                                                                                                                                                                                                                                                              \n",
      "Aaaba nodosus                  2631981              markayers                      Mark Ayers  http://inaturalist-open-data.s3.amazonaws.com/...  48460/1/47120/372739/47158/184884/47208/71130/...   1180363  110102811  d7d58667-c585-4220-ac37-7af564aa644b       jpg\n",
      "Aacanthocnema dobsoni          2452492             taphanyx03                            None  http://inaturalist-open-data.s3.amazonaws.com/...  48460/1/47120/372739/47158/184884/47744/334037...    498461  141425363  edbb7154-25d2-4bf5-88b9-58ff84a0e223      jpeg\n",
      "Aades bifoveifrons             1420010        lroganentsocvic           Linda Rogan EntSocVic  http://inaturalist-open-data.s3.amazonaws.com/...  48460/1/47120/372739/47158/184884/47208/71130/...    991822   39550086  462b7882-d2a1-4d45-a2e4-67815372f651      jpeg\n",
      "Aades cultratus                 222137                 reiner                  Reiner Richter  http://inaturalist-open-data.s3.amazonaws.com/...  48460/1/47120/372739/47158/184884/47208/71130/...    705165   28381798  b846620f-b262-49f9-b0ab-74362d191df5      jpeg\n",
      "Aades griseatus                 473623               dustaway            Nicholas John Fisher  http://inaturalist-open-data.s3.amazonaws.com/...  48460/1/47120/372739/47158/184884/47208/71130/...    546608   18346102  7b0e253f-6a74-42af-a7cf-52be458ca395       jpg\n",
      "...                                ...                    ...                             ...                                                ...                                                ...       ...        ...                                   ...       ...\n",
      "Zyxomma obtusum                  29409  eccentric_entomophile                 Benjamin Maples  http://inaturalist-open-data.s3.amazonaws.com/...  48460/1/47120/372739/47158/184884/47792/47927/...    358597    2422129  9d931063-9b3e-4f4c-b7bc-47cbbb354cec       jpg\n",
      "Zyxomma petiolatum                8853            ivijayanand  Dr. Vijay Anand Ismavel MS MCh  http://inaturalist-open-data.s3.amazonaws.com/...  48460/1/47120/372739/47158/184884/47792/47927/...    115308     273275  be5116a1-dd21-42d8-9cb4-46d408320ffa       jpg\n",
      "Zyzzogeton quadrimaculata      2709970                ramon_d                            None  http://inaturalist-open-data.s3.amazonaws.com/...  48460/1/47120/372739/47158/184884/47744/125816...   1293958   94372053  eb151ea2-9a8c-408c-aba3-fbd6ef9a9d49      jpeg\n",
      "Zyzzogeton viridipennis        1453877              wouter_oe                            None  http://inaturalist-open-data.s3.amazonaws.com/...  48460/1/47120/372739/47158/184884/47744/125816...    857604   30976924  75fae26c-c11f-45d9-9c83-c39b80a9ea53       jpg\n",
      "Zyzzyx chilensis               2479418              mgargiulo                         MatiasG  http://inaturalist-open-data.s3.amazonaws.com/...  48460/1/47120/372739/47158/184884/47201/124417...    627317   63017446  b304cc29-4809-46e0-a2ba-aebb87ca6ef2       jpg\n",
      "\n",
      "[95399 rows x 9 columns]\n"
     ]
    }
   ],
   "source": [
    "test = url_df.groupby(\"taxon_name\").first()\n",
    "print((test))"
   ]
  },
  {
   "cell_type": "code",
   "execution_count": null,
   "id": "92b428b4-761b-4e35-8cf7-bf8743df3d0a",
   "metadata": {},
   "outputs": [],
   "source": []
  },
  {
   "cell_type": "code",
   "execution_count": 6,
   "id": "c95ae99f-e9c8-45e6-bced-40c68c201734",
   "metadata": {},
   "outputs": [
    {
     "data": {
      "text/html": [
       "<div>\n",
       "<style scoped>\n",
       "    .dataframe tbody tr th:only-of-type {\n",
       "        vertical-align: middle;\n",
       "    }\n",
       "\n",
       "    .dataframe tbody tr th {\n",
       "        vertical-align: top;\n",
       "    }\n",
       "\n",
       "    .dataframe thead th {\n",
       "        text-align: right;\n",
       "    }\n",
       "</style>\n",
       "<table border=\"1\" class=\"dataframe\">\n",
       "  <thead>\n",
       "    <tr style=\"text-align: right;\">\n",
       "      <th></th>\n",
       "      <th>observer_id</th>\n",
       "      <th>login</th>\n",
       "      <th>name</th>\n",
       "      <th>photo_url_large</th>\n",
       "      <th>taxon_name</th>\n",
       "      <th>ancestry</th>\n",
       "      <th>taxon_id</th>\n",
       "      <th>photo_id</th>\n",
       "      <th>photo_uuid</th>\n",
       "      <th>extension</th>\n",
       "    </tr>\n",
       "  </thead>\n",
       "  <tbody>\n",
       "  </tbody>\n",
       "</table>\n",
       "</div>"
      ],
      "text/plain": [
       "Empty DataFrame\n",
       "Columns: [observer_id, login, name, photo_url_large, taxon_name, ancestry, taxon_id, photo_id, photo_uuid, extension]\n",
       "Index: []"
      ]
     },
     "execution_count": 6,
     "metadata": {},
     "output_type": "execute_result"
    }
   ],
   "source": [
    "url_df.query('taxon_id == 125063')"
   ]
  },
  {
   "cell_type": "code",
   "execution_count": 22,
   "id": "217723b1-83e9-403a-858d-2faf0ab5a5ba",
   "metadata": {},
   "outputs": [
    {
     "name": "stdout",
     "output_type": "stream",
     "text": [
      "   taxon_id                                           ancestry  rank_level   rank     name active\n",
      "0    124620  48460/1/47120/372739/47158/184884/47157/47156/...        20.0  genus  Acleris   true\n"
     ]
    }
   ],
   "source": [
    "taxa_df = pd.read_sql_query(\n",
    "    \"SELECT * \"\n",
    "    \"FROM taxa \"\n",
    "    \"WHERE taxon_id == '124620' \"\n",
    "    \"LIMIT 10 \",\n",
    "    con = 'sqlite:///../db/inaturalist-open-data-20220127.sq3db'\n",
    ")\n",
    "print(taxa_df)"
   ]
  },
  {
   "cell_type": "code",
   "execution_count": 21,
   "id": "87db377b-effd-4d4b-bf2f-0158b5f118df",
   "metadata": {},
   "outputs": [
    {
     "name": "stdout",
     "output_type": "stream",
     "text": [
      "Empty DataFrame\n",
      "Columns: [index, observer_id, login, name, photo_url_large, taxon_name, ancestry, taxon_id, photo_id, photo_uuid, extension]\n",
      "Index: []\n"
     ]
    }
   ],
   "source": [
    "test_df = pd.read_sql_query(\n",
    "    \"SELECT * \"\n",
    "    \"FROM subset \"\n",
    "    \"WHERE taxon_id == '124620' \",\n",
    "    #\"LIMIT 10 \",\n",
    "    con = 'sqlite:///../db/idx_inaturalist_subset.sq3db'\n",
    ")\n",
    "print(test_df)"
   ]
  },
  {
   "cell_type": "code",
   "execution_count": 31,
   "id": "998dc996-a760-4e1a-b3a9-69f7879d268d",
   "metadata": {},
   "outputs": [
    {
     "name": "stdout",
     "output_type": "stream",
     "text": [
      "48460/1/47120/372739/47158/184884/47157/47156/47155/124615/199539/124620\n"
     ]
    }
   ],
   "source": [
    "output_folder = f\"{taxa_df.loc[0,'ancestry']}/{taxa_df.loc[0, 'taxon_id']}\"\n",
    "print(output_folder)\n",
    "parent_dir = df.loc[0,'ancestry'].split('/')[0]\n",
    "tar.add(os.path.abspath(output_folder), arcname=df.loc[0,'ancestry'])\n",
    "shutil.rmtree(f'{args.data_dir}/{parent_dir}')"
   ]
  },
  {
   "cell_type": "code",
   "execution_count": 34,
   "id": "0a3c7aac-4eb4-4ed9-a8d0-6868f8cf48da",
   "metadata": {},
   "outputs": [
    {
     "name": "stdout",
     "output_type": "stream",
     "text": [
      "48460\n"
     ]
    }
   ],
   "source": [
    "parent_dir = taxa_df.loc[0,'ancestry'].split('/')[0]\n",
    "print(parent_dir)"
   ]
  }
 ],
 "metadata": {
  "kernelspec": {
   "display_name": "Python 3 (ipykernel)",
   "language": "python",
   "name": "python3"
  },
  "language_info": {
   "codemirror_mode": {
    "name": "ipython",
    "version": 3
   },
   "file_extension": ".py",
   "mimetype": "text/x-python",
   "name": "python",
   "nbconvert_exporter": "python",
   "pygments_lexer": "ipython3",
   "version": "3.8.12"
  }
 },
 "nbformat": 4,
 "nbformat_minor": 5
}
